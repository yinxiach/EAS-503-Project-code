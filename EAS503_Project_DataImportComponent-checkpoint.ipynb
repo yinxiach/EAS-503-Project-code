{
 "cells": [
  {
   "cell_type": "code",
   "execution_count": 1,
   "id": "e36f8f4a",
   "metadata": {},
   "outputs": [],
   "source": [
    "### Utility Functions\n",
    "from IPython.display import display, HTML\n",
    "import numpy as np\n",
    "import matplotlib.pyplot as plt\n",
    "import pandas as pd\n",
    "import sqlite3\n",
    "import plotly.express as px\n",
    "from sqlite3 import Error\n",
    "\n",
    "def create_connection(db_file, delete_db=False):\n",
    "    import os\n",
    "    if delete_db and os.path.exists(db_file):\n",
    "        os.remove(db_file)\n",
    "\n",
    "    conn = None\n",
    "    try:\n",
    "        conn = sqlite3.connect(db_file)\n",
    "        conn.execute(\"PRAGMA foreign_keys = 1\")\n",
    "    except Error as e:\n",
    "        print(e)\n",
    "\n",
    "    return conn\n",
    "        \n",
    "def execute_sql_statement(sql_statement, conn):\n",
    "    cur = conn.cursor()\n",
    "    cur.execute(sql_statement)\n",
    "\n",
    "    rows = cur.fetchall()\n",
    "\n",
    "    return rows\n"
   ]
  },
  {
   "cell_type": "code",
   "execution_count": 2,
   "id": "4b4f7002",
   "metadata": {},
   "outputs": [],
   "source": [
    "database_filename = 'eas503_city_temperature.db'\n",
    "conn = create_connection(database_filename)\n",
    "cur = conn.cursor"
   ]
  },
  {
   "cell_type": "code",
   "execution_count": 3,
   "id": "781ab9b5",
   "metadata": {},
   "outputs": [
    {
     "name": "stdout",
     "output_type": "stream",
     "text": [
      "49.638736263736234\n"
     ]
    }
   ],
   "source": [
    "#Return year average temperature by city and year.\n",
    "def city_temperature_year_average(conn, city, year):\n",
    "    sql_statement = \"SELECT AVG(TemperatureValue) as 'AVG Temperature' from Temperature where City = '{}' and Year = '{}' and TemperatureValue > -90;\".format(city, year)\n",
    "    df = pd.read_sql_query(sql_statement, conn)\n",
    "    return df.values[0][0]\n",
    "\n",
    "#Test\n",
    "x = city_temperature_year_average(conn, 'Buffalo', 1999)\n",
    "print(x)"
   ]
  },
  {
   "cell_type": "code",
   "execution_count": 4,
   "id": "52b8fffc",
   "metadata": {},
   "outputs": [
    {
     "data": {
      "image/png": "[encoded data removed]",
      "text/plain": [
       "<Figure size 432x288 with 1 Axes>"
      ]
     },
     "metadata": {
      "needs_background": "light"
     },
     "output_type": "display_data"
    }
   ],
   "source": [
    "#Return year avg temperature list and year list combination array [[year_list][temperature_list]] by city name\n",
    "def city_temperature_year_average_list(conn, city):\n",
    "    year_list = []\n",
    "    temperature_list = []\n",
    "    for year in range(1995, 2020):\n",
    "        year_list.append(year)\n",
    "        temperature_list.append(city_temperature_year_average(conn, city, year))\n",
    "    return[year_list,temperature_list]\n",
    "    \n",
    "#Test\n",
    "x = city_temperature_year_average_list(conn, 'Los Angeles')\n",
    "x1 = city_temperature_year_average_list(conn, 'Buffalo')\n",
    "plt.plot(x[0],x[1])\n",
    "plt.plot(x1[0],x1[1])\n",
    "plt.ylim((0, 120))\n",
    "plt.show()"
   ]
  },
  {
   "cell_type": "code",
   "execution_count": 5,
   "id": "80ece379",
   "metadata": {},
   "outputs": [
    {
     "name": "stdout",
     "output_type": "stream",
     "text": [
      "31.080645161290327\n"
     ]
    }
   ],
   "source": [
    "#Return month avg temperature by city name, year and month\n",
    "def city_temperature_month_average(conn, city, year, month):\n",
    "    sql_statement = \"SELECT AVG(TemperatureValue) as 'AVG Temperature' from Temperature where City = '{}' and Year = '{}' and Month = '{}' and TemperatureValue > -90;\".format(city, year, month)\n",
    "    df = pd.read_sql_query(sql_statement, conn)\n",
    "    return df.values[0][0]\n",
    "\n",
    "#Test\n",
    "x = city_temperature_month_average(conn, 'Buffalo', 1999, 3)\n",
    "print(x)"
   ]
  },
  {
   "cell_type": "code",
   "execution_count": 6,
   "id": "8a729f4a",
   "metadata": {},
   "outputs": [
    {
     "data": {
      "image/png": "[encoded data removed]",
      "text/plain": [
       "<Figure size 432x288 with 1 Axes>"
      ]
     },
     "metadata": {
      "needs_background": "light"
     },
     "output_type": "display_data"
    }
   ],
   "source": [
    "#Return month avg temperature list and month list combination array [[month_list][temperature_list]] by city name and year\n",
    "def city_temperature_month_average_list(conn, city, year):\n",
    "    month_list = []\n",
    "    temperature_list = []\n",
    "    for month in range(1,13):\n",
    "        month_list.append(month)\n",
    "        temperature_list.append(city_temperature_month_average(conn, city, year, month))\n",
    "    return[month_list, temperature_list]\n",
    "\n",
    "#Test\n",
    "x = city_temperature_month_average_list(conn, 'Los Angeles', 1999)\n",
    "x1 = city_temperature_month_average_list(conn, 'Buffalo', 1999)\n",
    "plt.plot(x[0],x[1])\n",
    "plt.plot(x1[0],x1[1])\n",
    "plt.ylim((0, 120))\n",
    "plt.show()\n",
    "    "
   ]
  },
  {
   "cell_type": "code",
   "execution_count": 7,
   "id": "fa23ae58",
   "metadata": {},
   "outputs": [
    {
     "ename": "KeyboardInterrupt",
     "evalue": "",
     "output_type": "error",
     "traceback": [
      "\u001b[1;31m---------------------------------------------------------------------------\u001b[0m",
      "\u001b[1;31mKeyboardInterrupt\u001b[0m                         Traceback (most recent call last)",
      "\u001b[1;32m<ipython-input-7-95d205fa73ba>\u001b[0m in \u001b[0;36m<module>\u001b[1;34m\u001b[0m\n\u001b[0;32m     11\u001b[0m \u001b[1;31m#Test\u001b[0m\u001b[1;33m\u001b[0m\u001b[1;33m\u001b[0m\u001b[1;33m\u001b[0m\u001b[0m\n\u001b[0;32m     12\u001b[0m \u001b[0mx\u001b[0m \u001b[1;33m=\u001b[0m \u001b[0mcity_temperature_by_time_sequence\u001b[0m\u001b[1;33m(\u001b[0m\u001b[0mconn\u001b[0m\u001b[1;33m,\u001b[0m \u001b[1;34m'Los Angeles'\u001b[0m\u001b[1;33m)\u001b[0m\u001b[1;33m\u001b[0m\u001b[1;33m\u001b[0m\u001b[0m\n\u001b[1;32m---> 13\u001b[1;33m \u001b[0mx1\u001b[0m \u001b[1;33m=\u001b[0m \u001b[0mcity_temperature_by_time_sequence\u001b[0m\u001b[1;33m(\u001b[0m\u001b[0mconn\u001b[0m\u001b[1;33m,\u001b[0m \u001b[1;34m'Buffalo'\u001b[0m\u001b[1;33m)\u001b[0m\u001b[1;33m\u001b[0m\u001b[1;33m\u001b[0m\u001b[0m\n\u001b[0m\u001b[0;32m     14\u001b[0m \u001b[0mplt\u001b[0m\u001b[1;33m.\u001b[0m\u001b[0mplot\u001b[0m\u001b[1;33m(\u001b[0m\u001b[0mx\u001b[0m\u001b[1;33m[\u001b[0m\u001b[1;36m0\u001b[0m\u001b[1;33m]\u001b[0m\u001b[1;33m,\u001b[0m\u001b[0mx\u001b[0m\u001b[1;33m[\u001b[0m\u001b[1;36m1\u001b[0m\u001b[1;33m]\u001b[0m\u001b[1;33m)\u001b[0m\u001b[1;33m\u001b[0m\u001b[1;33m\u001b[0m\u001b[0m\n\u001b[0;32m     15\u001b[0m \u001b[0mplt\u001b[0m\u001b[1;33m.\u001b[0m\u001b[0mplot\u001b[0m\u001b[1;33m(\u001b[0m\u001b[0mx1\u001b[0m\u001b[1;33m[\u001b[0m\u001b[1;36m0\u001b[0m\u001b[1;33m]\u001b[0m\u001b[1;33m,\u001b[0m\u001b[0mx1\u001b[0m\u001b[1;33m[\u001b[0m\u001b[1;36m1\u001b[0m\u001b[1;33m]\u001b[0m\u001b[1;33m)\u001b[0m\u001b[1;33m\u001b[0m\u001b[1;33m\u001b[0m\u001b[0m\n",
      "\u001b[1;32m<ipython-input-7-95d205fa73ba>\u001b[0m in \u001b[0;36mcity_temperature_by_time_sequence\u001b[1;34m(conn, city)\u001b[0m\n\u001b[0;32m      6\u001b[0m         \u001b[1;32mfor\u001b[0m \u001b[0mmonth\u001b[0m \u001b[1;32min\u001b[0m \u001b[0mrange\u001b[0m\u001b[1;33m(\u001b[0m\u001b[1;36m1\u001b[0m\u001b[1;33m,\u001b[0m \u001b[1;36m13\u001b[0m\u001b[1;33m)\u001b[0m\u001b[1;33m:\u001b[0m\u001b[1;33m\u001b[0m\u001b[1;33m\u001b[0m\u001b[0m\n\u001b[0;32m      7\u001b[0m             \u001b[0mtime_sequence\u001b[0m\u001b[1;33m.\u001b[0m\u001b[0mappend\u001b[0m\u001b[1;33m(\u001b[0m\u001b[1;33m(\u001b[0m\u001b[0myear\u001b[0m\u001b[1;33m+\u001b[0m\u001b[1;33m(\u001b[0m\u001b[1;33m(\u001b[0m\u001b[0mmonth\u001b[0m\u001b[1;33m-\u001b[0m\u001b[1;36m1\u001b[0m\u001b[1;33m)\u001b[0m\u001b[1;33m*\u001b[0m\u001b[1;36m10\u001b[0m\u001b[1;33m/\u001b[0m\u001b[1;36m120\u001b[0m\u001b[1;33m)\u001b[0m\u001b[1;33m)\u001b[0m\u001b[1;33m)\u001b[0m\u001b[1;33m\u001b[0m\u001b[1;33m\u001b[0m\u001b[0m\n\u001b[1;32m----> 8\u001b[1;33m             \u001b[0mtemperature_list\u001b[0m\u001b[1;33m.\u001b[0m\u001b[0mappend\u001b[0m\u001b[1;33m(\u001b[0m\u001b[0mcity_temperature_month_average\u001b[0m\u001b[1;33m(\u001b[0m\u001b[0mconn\u001b[0m\u001b[1;33m,\u001b[0m \u001b[0mcity\u001b[0m\u001b[1;33m,\u001b[0m \u001b[0myear\u001b[0m\u001b[1;33m,\u001b[0m \u001b[0mmonth\u001b[0m\u001b[1;33m)\u001b[0m\u001b[1;33m)\u001b[0m\u001b[1;33m\u001b[0m\u001b[1;33m\u001b[0m\u001b[0m\n\u001b[0m\u001b[0;32m      9\u001b[0m     \u001b[1;32mreturn\u001b[0m \u001b[1;33m[\u001b[0m\u001b[0mtime_sequence\u001b[0m\u001b[1;33m,\u001b[0m \u001b[0mtemperature_list\u001b[0m\u001b[1;33m]\u001b[0m\u001b[1;33m\u001b[0m\u001b[1;33m\u001b[0m\u001b[0m\n\u001b[0;32m     10\u001b[0m \u001b[1;33m\u001b[0m\u001b[0m\n",
      "\u001b[1;32m<ipython-input-5-6d35d1934503>\u001b[0m in \u001b[0;36mcity_temperature_month_average\u001b[1;34m(conn, city, year, month)\u001b[0m\n\u001b[0;32m      2\u001b[0m \u001b[1;32mdef\u001b[0m \u001b[0mcity_temperature_month_average\u001b[0m\u001b[1;33m(\u001b[0m\u001b[0mconn\u001b[0m\u001b[1;33m,\u001b[0m \u001b[0mcity\u001b[0m\u001b[1;33m,\u001b[0m \u001b[0myear\u001b[0m\u001b[1;33m,\u001b[0m \u001b[0mmonth\u001b[0m\u001b[1;33m)\u001b[0m\u001b[1;33m:\u001b[0m\u001b[1;33m\u001b[0m\u001b[1;33m\u001b[0m\u001b[0m\n\u001b[0;32m      3\u001b[0m     \u001b[0msql_statement\u001b[0m \u001b[1;33m=\u001b[0m \u001b[1;34m\"SELECT AVG(TemperatureValue) as 'AVG Temperature' from Temperature where City = '{}' and Year = '{}' and Month = '{}' and TemperatureValue > -90;\"\u001b[0m\u001b[1;33m.\u001b[0m\u001b[0mformat\u001b[0m\u001b[1;33m(\u001b[0m\u001b[0mcity\u001b[0m\u001b[1;33m,\u001b[0m \u001b[0myear\u001b[0m\u001b[1;33m,\u001b[0m \u001b[0mmonth\u001b[0m\u001b[1;33m)\u001b[0m\u001b[1;33m\u001b[0m\u001b[1;33m\u001b[0m\u001b[0m\n\u001b[1;32m----> 4\u001b[1;33m     \u001b[0mdf\u001b[0m \u001b[1;33m=\u001b[0m \u001b[0mpd\u001b[0m\u001b[1;33m.\u001b[0m\u001b[0mread_sql_query\u001b[0m\u001b[1;33m(\u001b[0m\u001b[0msql_statement\u001b[0m\u001b[1;33m,\u001b[0m \u001b[0mconn\u001b[0m\u001b[1;33m)\u001b[0m\u001b[1;33m\u001b[0m\u001b[1;33m\u001b[0m\u001b[0m\n\u001b[0m\u001b[0;32m      5\u001b[0m     \u001b[1;32mreturn\u001b[0m \u001b[0mdf\u001b[0m\u001b[1;33m.\u001b[0m\u001b[0mvalues\u001b[0m\u001b[1;33m[\u001b[0m\u001b[1;36m0\u001b[0m\u001b[1;33m]\u001b[0m\u001b[1;33m[\u001b[0m\u001b[1;36m0\u001b[0m\u001b[1;33m]\u001b[0m\u001b[1;33m\u001b[0m\u001b[1;33m\u001b[0m\u001b[0m\n\u001b[0;32m      6\u001b[0m \u001b[1;33m\u001b[0m\u001b[0m\n",
      "\u001b[1;32mD:\\Anaconda\\lib\\site-packages\\pandas\\io\\sql.py\u001b[0m in \u001b[0;36mread_sql_query\u001b[1;34m(sql, con, index_col, coerce_float, params, parse_dates, chunksize)\u001b[0m\n\u001b[0;32m    386\u001b[0m     \"\"\"\n\u001b[0;32m    387\u001b[0m     \u001b[0mpandas_sql\u001b[0m \u001b[1;33m=\u001b[0m \u001b[0mpandasSQL_builder\u001b[0m\u001b[1;33m(\u001b[0m\u001b[0mcon\u001b[0m\u001b[1;33m)\u001b[0m\u001b[1;33m\u001b[0m\u001b[1;33m\u001b[0m\u001b[0m\n\u001b[1;32m--> 388\u001b[1;33m     return pandas_sql.read_query(\n\u001b[0m\u001b[0;32m    389\u001b[0m         \u001b[0msql\u001b[0m\u001b[1;33m,\u001b[0m\u001b[1;33m\u001b[0m\u001b[1;33m\u001b[0m\u001b[0m\n\u001b[0;32m    390\u001b[0m         \u001b[0mindex_col\u001b[0m\u001b[1;33m=\u001b[0m\u001b[0mindex_col\u001b[0m\u001b[1;33m,\u001b[0m\u001b[1;33m\u001b[0m\u001b[1;33m\u001b[0m\u001b[0m\n",
      "\u001b[1;32mD:\\Anaconda\\lib\\site-packages\\pandas\\io\\sql.py\u001b[0m in \u001b[0;36mread_query\u001b[1;34m(self, sql, index_col, coerce_float, params, parse_dates, chunksize)\u001b[0m\n\u001b[0;32m   1769\u001b[0m \u001b[1;33m\u001b[0m\u001b[0m\n\u001b[0;32m   1770\u001b[0m         \u001b[0margs\u001b[0m \u001b[1;33m=\u001b[0m \u001b[0m_convert_params\u001b[0m\u001b[1;33m(\u001b[0m\u001b[0msql\u001b[0m\u001b[1;33m,\u001b[0m \u001b[0mparams\u001b[0m\u001b[1;33m)\u001b[0m\u001b[1;33m\u001b[0m\u001b[1;33m\u001b[0m\u001b[0m\n\u001b[1;32m-> 1771\u001b[1;33m         \u001b[0mcursor\u001b[0m \u001b[1;33m=\u001b[0m \u001b[0mself\u001b[0m\u001b[1;33m.\u001b[0m\u001b[0mexecute\u001b[0m\u001b[1;33m(\u001b[0m\u001b[1;33m*\u001b[0m\u001b[0margs\u001b[0m\u001b[1;33m)\u001b[0m\u001b[1;33m\u001b[0m\u001b[1;33m\u001b[0m\u001b[0m\n\u001b[0m\u001b[0;32m   1772\u001b[0m         \u001b[0mcolumns\u001b[0m \u001b[1;33m=\u001b[0m \u001b[1;33m[\u001b[0m\u001b[0mcol_desc\u001b[0m\u001b[1;33m[\u001b[0m\u001b[1;36m0\u001b[0m\u001b[1;33m]\u001b[0m \u001b[1;32mfor\u001b[0m \u001b[0mcol_desc\u001b[0m \u001b[1;32min\u001b[0m \u001b[0mcursor\u001b[0m\u001b[1;33m.\u001b[0m\u001b[0mdescription\u001b[0m\u001b[1;33m]\u001b[0m\u001b[1;33m\u001b[0m\u001b[1;33m\u001b[0m\u001b[0m\n\u001b[0;32m   1773\u001b[0m \u001b[1;33m\u001b[0m\u001b[0m\n",
      "\u001b[1;32mD:\\Anaconda\\lib\\site-packages\\pandas\\io\\sql.py\u001b[0m in \u001b[0;36mexecute\u001b[1;34m(self, *args, **kwargs)\u001b[0m\n\u001b[0;32m   1723\u001b[0m             \u001b[0mcur\u001b[0m \u001b[1;33m=\u001b[0m \u001b[0mself\u001b[0m\u001b[1;33m.\u001b[0m\u001b[0mcon\u001b[0m\u001b[1;33m.\u001b[0m\u001b[0mcursor\u001b[0m\u001b[1;33m(\u001b[0m\u001b[1;33m)\u001b[0m\u001b[1;33m\u001b[0m\u001b[1;33m\u001b[0m\u001b[0m\n\u001b[0;32m   1724\u001b[0m         \u001b[1;32mtry\u001b[0m\u001b[1;33m:\u001b[0m\u001b[1;33m\u001b[0m\u001b[1;33m\u001b[0m\u001b[0m\n\u001b[1;32m-> 1725\u001b[1;33m             \u001b[0mcur\u001b[0m\u001b[1;33m.\u001b[0m\u001b[0mexecute\u001b[0m\u001b[1;33m(\u001b[0m\u001b[1;33m*\u001b[0m\u001b[0margs\u001b[0m\u001b[1;33m,\u001b[0m \u001b[1;33m**\u001b[0m\u001b[0mkwargs\u001b[0m\u001b[1;33m)\u001b[0m\u001b[1;33m\u001b[0m\u001b[1;33m\u001b[0m\u001b[0m\n\u001b[0m\u001b[0;32m   1726\u001b[0m             \u001b[1;32mreturn\u001b[0m \u001b[0mcur\u001b[0m\u001b[1;33m\u001b[0m\u001b[1;33m\u001b[0m\u001b[0m\n\u001b[0;32m   1727\u001b[0m         \u001b[1;32mexcept\u001b[0m \u001b[0mException\u001b[0m \u001b[1;32mas\u001b[0m \u001b[0mexc\u001b[0m\u001b[1;33m:\u001b[0m\u001b[1;33m\u001b[0m\u001b[1;33m\u001b[0m\u001b[0m\n",
      "\u001b[1;31mKeyboardInterrupt\u001b[0m: "
     ]
    }
   ],
   "source": [
    "#Return[[time_sequence][temperature_list]] by city\n",
    "def city_temperature_by_time_sequence(conn, city):\n",
    "    time_sequence = []\n",
    "    temperature_list = []\n",
    "    for year in range(1995, 2020):\n",
    "        for month in range(1, 13):\n",
    "            time_sequence.append((year+((month-1)*10/120)))\n",
    "            temperature_list.append(city_temperature_month_average(conn, city, year, month))\n",
    "    return [time_sequence, temperature_list]\n",
    "\n",
    "#Test\n",
    "x = city_temperature_by_time_sequence(conn, 'Los Angeles')\n",
    "x1 = city_temperature_by_time_sequence(conn, 'Buffalo')\n",
    "plt.plot(x[0],x[1])\n",
    "plt.plot(x1[0],x1[1])\n",
    "plt.ylim((0, 120))\n",
    "plt.show()"
   ]
  },
  {
   "cell_type": "code",
   "execution_count": 8,
   "id": "c0287e15",
   "metadata": {},
   "outputs": [
    {
     "name": "stdout",
     "output_type": "stream",
     "text": [
      "['Birmingham', 'Huntsville', 'Mobile', 'Montgomery', 'Anchorage', 'Fairbanks', 'Juneau', 'Flagstaff', 'Phoenix', 'Tucson', 'Yuma', 'Fort Smith', 'Little Rock', 'Fresno', 'Los Angeles', 'Sacramento', 'San Diego', 'San Francisco', 'Colorado Springs', 'Denver', 'Grand Junction', 'Pueblo', 'Bridgeport', 'Hartford Springfield', 'Wilmington', 'Washington', 'Washington DC', 'Daytona Beach', 'Jacksonville', 'Miami Beach', 'Orlando', 'Tallahassee', 'Tampa St. Petersburg', 'West Palm Beach', 'Atlanta', 'Columbus', 'Macon', 'Savannah', 'Honolulu', 'Boise', 'Pocatello', 'Chicago', 'Peoria', 'Rockford', 'Springfield', 'Evansville', 'Fort Wayne', 'Indianapolis', 'South Bend', 'Des Moines', 'Sioux City', 'Goodland', 'Topeka', 'Wichita', 'Lexington', 'Louisville', 'Paducah', 'Baton Rouge', 'Lake Charles', 'New Orleans', 'Shreveport', 'Caribou', 'Portland', 'Baltimore', 'Boston', 'Detroit', 'Flint', 'Grand Rapids', 'Lansing', 'Sault Ste Marie', 'Duluth', 'Minneapolis St. Paul', 'Jackson', 'Tupelo', 'Kansas City', 'St Louis', 'Billings', 'Great Falls', 'Helena', 'Lincoln', 'North Platte', 'Omaha', 'Reno', 'Las Vegas', 'Concord', 'Atlantic City', 'Newark', 'Albuquerque', 'Albany', 'Buffalo', 'New York City', 'Rochester', 'Syracuse', 'Asheville', 'Charlotte', 'Greensboro', 'Raleigh Durham', 'Bismarck', 'Fargo', 'Akron Canton', 'Cincinnati', 'Cleveland', 'Dayton', 'Toledo', 'Youngstown', 'Oklahoma City', 'Tulsa', 'Eugene', 'Medford', 'Salem', 'Allentown', 'Erie', 'Harrisburg', 'Philadelphia', 'Pittsburgh', 'Wilkes Barre', 'Rhode Island', 'Charleston', 'Columbia', 'Rapid City', 'Sioux Falls', 'Chattanooga', 'Knoxville', 'Memphis', 'Nashville', 'Abilene', 'Amarillo', 'Austin', 'Brownsville', 'Corpus Christi', 'Dallas Ft Worth', 'El Paso', 'Houston', 'Lubbock', 'Midland Odessa', 'San Angelo', 'San Antonio', 'Waco', 'Wichita Falls', 'Salt Lake City', 'Burlington', 'Norfolk', 'Richmond', 'Roanoke', 'Seattle', 'Spokane', 'Yakima', 'Elkins', 'Green Bay', 'Madison', 'Milwaukee', 'Casper', 'Cheyenne', 'San Juan Puerto Rico']\n"
     ]
    }
   ],
   "source": [
    "#Return distinct city list\n",
    "def city_list(conn):\n",
    "    sql_statement = \"SELECT DISTINCT City from Temperature;\"\n",
    "    df = pd.read_sql_query(sql_statement, conn)\n",
    "    city_list = []\n",
    "    for city in df.values:\n",
    "        city_list.append(city[0])\n",
    "    return city_list\n",
    "\n",
    "#Test\n",
    "print(city_list(conn))"
   ]
  },
  {
   "cell_type": "code",
   "execution_count": 9,
   "id": "d830d284",
   "metadata": {},
   "outputs": [
    {
     "ename": "DatabaseError",
     "evalue": "Execution failed on sql 'SELECT DISTINCT State from Temperature;': no such column: State",
     "output_type": "error",
     "traceback": [
      "\u001b[1;31m---------------------------------------------------------------------------\u001b[0m",
      "\u001b[1;31mOperationalError\u001b[0m                          Traceback (most recent call last)",
      "\u001b[1;32mD:\\Anaconda\\lib\\site-packages\\pandas\\io\\sql.py\u001b[0m in \u001b[0;36mexecute\u001b[1;34m(self, *args, **kwargs)\u001b[0m\n\u001b[0;32m   1724\u001b[0m         \u001b[1;32mtry\u001b[0m\u001b[1;33m:\u001b[0m\u001b[1;33m\u001b[0m\u001b[1;33m\u001b[0m\u001b[0m\n\u001b[1;32m-> 1725\u001b[1;33m             \u001b[0mcur\u001b[0m\u001b[1;33m.\u001b[0m\u001b[0mexecute\u001b[0m\u001b[1;33m(\u001b[0m\u001b[1;33m*\u001b[0m\u001b[0margs\u001b[0m\u001b[1;33m,\u001b[0m \u001b[1;33m**\u001b[0m\u001b[0mkwargs\u001b[0m\u001b[1;33m)\u001b[0m\u001b[1;33m\u001b[0m\u001b[1;33m\u001b[0m\u001b[0m\n\u001b[0m\u001b[0;32m   1726\u001b[0m             \u001b[1;32mreturn\u001b[0m \u001b[0mcur\u001b[0m\u001b[1;33m\u001b[0m\u001b[1;33m\u001b[0m\u001b[0m\n",
      "\u001b[1;31mOperationalError\u001b[0m: no such column: State",
      "\nThe above exception was the direct cause of the following exception:\n",
      "\u001b[1;31mDatabaseError\u001b[0m                             Traceback (most recent call last)",
      "\u001b[1;32m<ipython-input-9-1cdb45ab0a5f>\u001b[0m in \u001b[0;36m<module>\u001b[1;34m\u001b[0m\n\u001b[0;32m     10\u001b[0m \u001b[1;33m\u001b[0m\u001b[0m\n\u001b[0;32m     11\u001b[0m \u001b[1;31m#Test\u001b[0m\u001b[1;33m\u001b[0m\u001b[1;33m\u001b[0m\u001b[1;33m\u001b[0m\u001b[0m\n\u001b[1;32m---> 12\u001b[1;33m \u001b[0mprint\u001b[0m\u001b[1;33m(\u001b[0m\u001b[0mstate_list\u001b[0m\u001b[1;33m(\u001b[0m\u001b[0mconn\u001b[0m\u001b[1;33m)\u001b[0m\u001b[1;33m)\u001b[0m\u001b[1;33m\u001b[0m\u001b[1;33m\u001b[0m\u001b[0m\n\u001b[0m",
      "\u001b[1;32m<ipython-input-9-1cdb45ab0a5f>\u001b[0m in \u001b[0;36mstate_list\u001b[1;34m(conn)\u001b[0m\n\u001b[0;32m      2\u001b[0m \u001b[1;32mdef\u001b[0m \u001b[0mstate_list\u001b[0m\u001b[1;33m(\u001b[0m\u001b[0mconn\u001b[0m\u001b[1;33m)\u001b[0m\u001b[1;33m:\u001b[0m\u001b[1;33m\u001b[0m\u001b[1;33m\u001b[0m\u001b[0m\n\u001b[0;32m      3\u001b[0m     \u001b[0msql_statement\u001b[0m \u001b[1;33m=\u001b[0m \u001b[1;34m\"SELECT DISTINCT State from Temperature;\"\u001b[0m\u001b[1;33m\u001b[0m\u001b[1;33m\u001b[0m\u001b[0m\n\u001b[1;32m----> 4\u001b[1;33m     \u001b[0mdf\u001b[0m \u001b[1;33m=\u001b[0m \u001b[0mpd\u001b[0m\u001b[1;33m.\u001b[0m\u001b[0mread_sql_query\u001b[0m\u001b[1;33m(\u001b[0m\u001b[0msql_statement\u001b[0m\u001b[1;33m,\u001b[0m \u001b[0mconn\u001b[0m\u001b[1;33m)\u001b[0m\u001b[1;33m\u001b[0m\u001b[1;33m\u001b[0m\u001b[0m\n\u001b[0m\u001b[0;32m      5\u001b[0m     \u001b[0mstate_list\u001b[0m \u001b[1;33m=\u001b[0m \u001b[1;33m[\u001b[0m\u001b[1;33m]\u001b[0m\u001b[1;33m\u001b[0m\u001b[1;33m\u001b[0m\u001b[0m\n\u001b[0;32m      6\u001b[0m     \u001b[1;32mfor\u001b[0m \u001b[0mstate\u001b[0m \u001b[1;32min\u001b[0m \u001b[0mdf\u001b[0m\u001b[1;33m.\u001b[0m\u001b[0mvalues\u001b[0m\u001b[1;33m:\u001b[0m\u001b[1;33m\u001b[0m\u001b[1;33m\u001b[0m\u001b[0m\n",
      "\u001b[1;32mD:\\Anaconda\\lib\\site-packages\\pandas\\io\\sql.py\u001b[0m in \u001b[0;36mread_sql_query\u001b[1;34m(sql, con, index_col, coerce_float, params, parse_dates, chunksize)\u001b[0m\n\u001b[0;32m    386\u001b[0m     \"\"\"\n\u001b[0;32m    387\u001b[0m     \u001b[0mpandas_sql\u001b[0m \u001b[1;33m=\u001b[0m \u001b[0mpandasSQL_builder\u001b[0m\u001b[1;33m(\u001b[0m\u001b[0mcon\u001b[0m\u001b[1;33m)\u001b[0m\u001b[1;33m\u001b[0m\u001b[1;33m\u001b[0m\u001b[0m\n\u001b[1;32m--> 388\u001b[1;33m     return pandas_sql.read_query(\n\u001b[0m\u001b[0;32m    389\u001b[0m         \u001b[0msql\u001b[0m\u001b[1;33m,\u001b[0m\u001b[1;33m\u001b[0m\u001b[1;33m\u001b[0m\u001b[0m\n\u001b[0;32m    390\u001b[0m         \u001b[0mindex_col\u001b[0m\u001b[1;33m=\u001b[0m\u001b[0mindex_col\u001b[0m\u001b[1;33m,\u001b[0m\u001b[1;33m\u001b[0m\u001b[1;33m\u001b[0m\u001b[0m\n",
      "\u001b[1;32mD:\\Anaconda\\lib\\site-packages\\pandas\\io\\sql.py\u001b[0m in \u001b[0;36mread_query\u001b[1;34m(self, sql, index_col, coerce_float, params, parse_dates, chunksize)\u001b[0m\n\u001b[0;32m   1769\u001b[0m \u001b[1;33m\u001b[0m\u001b[0m\n\u001b[0;32m   1770\u001b[0m         \u001b[0margs\u001b[0m \u001b[1;33m=\u001b[0m \u001b[0m_convert_params\u001b[0m\u001b[1;33m(\u001b[0m\u001b[0msql\u001b[0m\u001b[1;33m,\u001b[0m \u001b[0mparams\u001b[0m\u001b[1;33m)\u001b[0m\u001b[1;33m\u001b[0m\u001b[1;33m\u001b[0m\u001b[0m\n\u001b[1;32m-> 1771\u001b[1;33m         \u001b[0mcursor\u001b[0m \u001b[1;33m=\u001b[0m \u001b[0mself\u001b[0m\u001b[1;33m.\u001b[0m\u001b[0mexecute\u001b[0m\u001b[1;33m(\u001b[0m\u001b[1;33m*\u001b[0m\u001b[0margs\u001b[0m\u001b[1;33m)\u001b[0m\u001b[1;33m\u001b[0m\u001b[1;33m\u001b[0m\u001b[0m\n\u001b[0m\u001b[0;32m   1772\u001b[0m         \u001b[0mcolumns\u001b[0m \u001b[1;33m=\u001b[0m \u001b[1;33m[\u001b[0m\u001b[0mcol_desc\u001b[0m\u001b[1;33m[\u001b[0m\u001b[1;36m0\u001b[0m\u001b[1;33m]\u001b[0m \u001b[1;32mfor\u001b[0m \u001b[0mcol_desc\u001b[0m \u001b[1;32min\u001b[0m \u001b[0mcursor\u001b[0m\u001b[1;33m.\u001b[0m\u001b[0mdescription\u001b[0m\u001b[1;33m]\u001b[0m\u001b[1;33m\u001b[0m\u001b[1;33m\u001b[0m\u001b[0m\n\u001b[0;32m   1773\u001b[0m \u001b[1;33m\u001b[0m\u001b[0m\n",
      "\u001b[1;32mD:\\Anaconda\\lib\\site-packages\\pandas\\io\\sql.py\u001b[0m in \u001b[0;36mexecute\u001b[1;34m(self, *args, **kwargs)\u001b[0m\n\u001b[0;32m   1735\u001b[0m \u001b[1;33m\u001b[0m\u001b[0m\n\u001b[0;32m   1736\u001b[0m             \u001b[0mex\u001b[0m \u001b[1;33m=\u001b[0m \u001b[0mDatabaseError\u001b[0m\u001b[1;33m(\u001b[0m\u001b[1;34mf\"Execution failed on sql '{args[0]}': {exc}\"\u001b[0m\u001b[1;33m)\u001b[0m\u001b[1;33m\u001b[0m\u001b[1;33m\u001b[0m\u001b[0m\n\u001b[1;32m-> 1737\u001b[1;33m             \u001b[1;32mraise\u001b[0m \u001b[0mex\u001b[0m \u001b[1;32mfrom\u001b[0m \u001b[0mexc\u001b[0m\u001b[1;33m\u001b[0m\u001b[1;33m\u001b[0m\u001b[0m\n\u001b[0m\u001b[0;32m   1738\u001b[0m \u001b[1;33m\u001b[0m\u001b[0m\n\u001b[0;32m   1739\u001b[0m     \u001b[1;33m@\u001b[0m\u001b[0mstaticmethod\u001b[0m\u001b[1;33m\u001b[0m\u001b[1;33m\u001b[0m\u001b[0m\n",
      "\u001b[1;31mDatabaseError\u001b[0m: Execution failed on sql 'SELECT DISTINCT State from Temperature;': no such column: State"
     ]
    }
   ],
   "source": [
    "#Return Distinct state list\n",
    "def state_list(conn):\n",
    "    sql_statement = \"SELECT DISTINCT State from Temperature;\"\n",
    "    df = pd.read_sql_query(sql_statement, conn)\n",
    "    state_list = []\n",
    "    for state in df.values:\n",
    "        state_list.append(state[0])\n",
    "    return state_list\n",
    "\n",
    "\n",
    "#Test\n",
    "print(state_list(conn))"
   ]
  },
  {
   "cell_type": "code",
   "execution_count": null,
   "id": "04aae58d",
   "metadata": {},
   "outputs": [],
   "source": [
    "#Return city list by state\n",
    "def city_list_for_state(conn, state):\n",
    "    sql_statement = \"SELECT DISTINCT City from Temperature where State = '{}';\".format(state)\n",
    "    df = pd.read_sql_query(sql_statement, conn)\n",
    "    city_list = []\n",
    "    for city in df.values:\n",
    "        city_list.append(city[0])\n",
    "    return city_list\n",
    "\n",
    "#Test\n",
    "print(city_list_for_state(conn, 'New York'))"
   ]
  },
  {
   "cell_type": "code",
   "execution_count": null,
   "id": "3fcb3eab",
   "metadata": {},
   "outputs": [],
   "source": [
    "def state_temperature_year_average(conn, state, year):\n",
    "    sql_statement = \"SELECT AVG(TemperatureValue) as 'AVG Temperature' from Temperature where State = '{}' and Year = '{}' and TemperatureValue > -90;\".format(state, year)\n",
    "    df = pd.read_sql_query(sql_statement, conn)\n",
    "    return df.values[0][0]\n",
    "\n",
    "#Test\n",
    "x = state_temperature_year_average(conn, 'New York', 1999)\n",
    "print(x)"
   ]
  },
  {
   "cell_type": "code",
   "execution_count": null,
   "id": "a4c79e17",
   "metadata": {},
   "outputs": [],
   "source": [
    "def state_temperature_year_average_list(conn, state):\n",
    "    year_list = []\n",
    "    temperature_list = []\n",
    "    for year in range(1995, 2020):\n",
    "        year_list.append(year)\n",
    "        temperature_list.append(state_temperature_year_average(conn, state, year))\n",
    "    return[year_list,temperature_list]\n",
    "    \n",
    "#Test\n",
    "x = state_temperature_year_average_list(conn, 'New York')\n",
    "x1 = state_temperature_year_average_list(conn, 'California')\n",
    "plt.plot(x[0],x[1])\n",
    "plt.plot(x1[0],x1[1])\n",
    "plt.ylim((0, 120))\n",
    "plt.show()"
   ]
  },
  {
   "cell_type": "code",
   "execution_count": null,
   "id": "b8652b1c",
   "metadata": {},
   "outputs": [],
   "source": [
    "def state_temperature_month_average(conn, state, year, month):\n",
    "    sql_statement = \"SELECT AVG(TemperatureValue) as 'AVG Temperature' from Temperature where State = '{}' and Year = '{}' and Month = '{}' and TemperatureValue > -90;\".format(state, year, month)\n",
    "    df = pd.read_sql_query(sql_statement, conn)\n",
    "    return df.values[0][0]\n",
    "\n",
    "#Test\n",
    "x = state_temperature_month_average(conn, 'New York', 1999, 3)\n",
    "print(x)"
   ]
  },
  {
   "cell_type": "code",
   "execution_count": null,
   "id": "b5a4c62e",
   "metadata": {},
   "outputs": [],
   "source": [
    "def state_temperature_month_average_list(conn, state, year):\n",
    "    month_list = []\n",
    "    temperature_list = []\n",
    "    for month in range(1,13):\n",
    "        month_list.append(month)\n",
    "        temperature_list.append(state_temperature_month_average(conn, state, year, month))\n",
    "    return[month_list, temperature_list]\n",
    "\n",
    "#Test\n",
    "x = state_temperature_month_average_list(conn, 'New York', 1999)\n",
    "x1 = state_temperature_month_average_list(conn, 'California', 1999)\n",
    "plt.plot(x[0],x[1])\n",
    "plt.plot(x1[0],x1[1])\n",
    "plt.ylim((0, 120))\n",
    "plt.show()"
   ]
  },
  {
   "cell_type": "code",
   "execution_count": null,
   "id": "80063681",
   "metadata": {},
   "outputs": [],
   "source": [
    "def state_temperature_by_time_sequence(conn, state):\n",
    "    time_sequence = []\n",
    "    temperature_list = []\n",
    "    for year in range(1995, 2020):\n",
    "        for month in range(1, 13):\n",
    "            time_sequence.append((year+((month-1)*10/120)))\n",
    "            temperature_list.append(state_temperature_month_average(conn, state, year, month))\n",
    "    return [time_sequence, temperature_list]\n",
    "\n",
    "#Test\n",
    "x = state_temperature_by_time_sequence(conn, 'New York')\n",
    "x1 = state_temperature_by_time_sequence(conn, 'California')\n",
    "plt.plot(x[0],x[1])\n",
    "plt.plot(x1[0],x1[1])\n",
    "plt.ylim((0, 120))\n",
    "plt.show()"
   ]
  },
  {
   "cell_type": "code",
   "execution_count": null,
   "id": "e2f420b5",
   "metadata": {},
   "outputs": [],
   "source": [
    "def city_temperature_year_max(conn, city, year):\n",
    "    sql_statement = \"SELECT MAX(TemperatureValue) as 'Max Temperature' from Temperature where City = '{}' and Year = '{}';\".format(city, year)\n",
    "    df = pd.read_sql_query(sql_statement, conn)\n",
    "    return df.values[0][0]\n",
    "\n",
    "#Test\n",
    "x = city_temperature_year_max(conn, 'Buffalo', 1999)\n",
    "print(x)"
   ]
  },
  {
   "cell_type": "code",
   "execution_count": null,
   "id": "08dd2724",
   "metadata": {},
   "outputs": [],
   "source": [
    "def city_temperature_year_min(conn, city, year):\n",
    "    sql_statement = \"SELECT MIN(TemperatureValue) as 'Min Temperature' from Temperature where City = '{}' and Year = '{}' and TemperatureValue > -90;\".format(city, year)\n",
    "    df = pd.read_sql_query(sql_statement, conn)\n",
    "    return df.values[0][0]\n",
    "\n",
    "#Test\n",
    "x = city_temperature_year_min(conn, 'Los Angeles', 1999)\n",
    "print(x)"
   ]
  },
  {
   "cell_type": "code",
   "execution_count": null,
   "id": "7ce2e343",
   "metadata": {},
   "outputs": [],
   "source": [
    "#Return[[YearList][Temperature Difference]] by city\n",
    "def city_temperature_year_difference_list(conn, city):\n",
    "    year_list = []\n",
    "    temperature_diff = []\n",
    "    for year in range(1995, 2020):\n",
    "        year_list.append(year)\n",
    "        temperature_diff.append(city_temperature_year_max(conn, city, year) - city_temperature_year_min(conn, city, year))\n",
    "    return [year_list, temperature_diff]\n",
    "\n",
    "#Test\n",
    "x = city_temperature_year_difference_list(conn, 'Buffalo')\n",
    "x1 = city_temperature_year_difference_list(conn, 'Los Angeles')\n",
    "plt.plot(x[0],x[1])\n",
    "plt.plot(x1[0],x1[1])\n",
    "plt.ylim((0, 120))\n",
    "plt.show()"
   ]
  },
  {
   "cell_type": "code",
   "execution_count": null,
   "id": "5f87e088",
   "metadata": {},
   "outputs": [],
   "source": [
    "def city_temperature_year_max_list(conn, city):\n",
    "    year_list = []\n",
    "    temperature_max = []\n",
    "    for year in range(1995, 2020):\n",
    "        year_list.append(year)\n",
    "        temperature_max.append(city_temperature_year_max(conn, city, year))\n",
    "    return [year_list, temperature_max]\n",
    "\n",
    "#Test\n",
    "x = city_temperature_year_max_list(conn, 'Buffalo')\n",
    "x1 = city_temperature_year_max_list(conn, 'Los Angeles')\n",
    "plt.plot(x[0],x[1])\n",
    "plt.plot(x1[0],x1[1])\n",
    "plt.ylim((0, 120))\n",
    "plt.show()"
   ]
  },
  {
   "cell_type": "code",
   "execution_count": null,
   "id": "81b30e05",
   "metadata": {},
   "outputs": [],
   "source": [
    "def city_temperature_year_min_list(conn, city):\n",
    "    year_list = []\n",
    "    temperature_min = []\n",
    "    for year in range(1995, 2020):\n",
    "        year_list.append(year)\n",
    "        temperature_min.append(city_temperature_year_min(conn, city, year))\n",
    "    return [year_list, temperature_min]\n",
    "\n",
    "#Test\n",
    "x = city_temperature_year_min_list(conn, 'Buffalo')\n",
    "x1 = city_temperature_year_min_list(conn, 'Los Angeles')\n",
    "plt.plot(x[0],x[1])\n",
    "plt.plot(x1[0],x1[1])\n",
    "plt.ylim((-20, 120))\n",
    "plt.show()"
   ]
  },
  {
   "cell_type": "code",
   "execution_count": null,
   "id": "13126e45",
   "metadata": {},
   "outputs": [],
   "source": []
  }
 ],
 "metadata": {
  "kernelspec": {
   "display_name": "Python 3",
   "language": "python",
   "name": "python3"
  },
  "language_info": {
   "codemirror_mode": {
    "name": "ipython",
    "version": 3
   },
   "file_extension": ".py",
   "mimetype": "text/x-python",
   "name": "python",
   "nbconvert_exporter": "python",
   "pygments_lexer": "ipython3",
   "version": "3.8.8"
  }
 },
 "nbformat": 4,
 "nbformat_minor": 5
}
